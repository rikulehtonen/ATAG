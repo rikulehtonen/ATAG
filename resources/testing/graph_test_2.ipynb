{
 "cells": [
  {
   "cell_type": "code",
   "execution_count": 3,
   "metadata": {},
   "outputs": [
    {
     "ename": "ImportError",
     "evalue": "requires pygraphviz http://pygraphviz.github.io/",
     "output_type": "error",
     "traceback": [
      "\u001b[1;31m---------------------------------------------------------------------------\u001b[0m",
      "\u001b[1;31mModuleNotFoundError\u001b[0m                       Traceback (most recent call last)",
      "File \u001b[1;32mc:\\Users\\lehtorik\\Documents\\projects\\thesis\\ATAG\\venv\\lib\\site-packages\\networkx\\drawing\\nx_agraph.py:295\u001b[0m, in \u001b[0;36mpygraphviz_layout\u001b[1;34m(G, prog, root, args)\u001b[0m\n\u001b[0;32m    294\u001b[0m \u001b[39mtry\u001b[39;00m:\n\u001b[1;32m--> 295\u001b[0m     \u001b[39mimport\u001b[39;00m \u001b[39mpygraphviz\u001b[39;00m\n\u001b[0;32m    296\u001b[0m \u001b[39mexcept\u001b[39;00m \u001b[39mImportError\u001b[39;00m \u001b[39mas\u001b[39;00m err:\n",
      "\u001b[1;31mModuleNotFoundError\u001b[0m: No module named 'pygraphviz'",
      "\nThe above exception was the direct cause of the following exception:\n",
      "\u001b[1;31mImportError\u001b[0m                               Traceback (most recent call last)",
      "Cell \u001b[1;32mIn[3], line 36\u001b[0m\n\u001b[0;32m     33\u001b[0m \u001b[39m#print(G_edges)\u001b[39;00m\n\u001b[0;32m     35\u001b[0m G \u001b[39m=\u001b[39m nx\u001b[39m.\u001b[39mDiGraph(G_edges)\n\u001b[1;32m---> 36\u001b[0m pos \u001b[39m=\u001b[39m nx\u001b[39m.\u001b[39;49mnx_agraph\u001b[39m.\u001b[39;49mgraphviz_layout(G, prog\u001b[39m=\u001b[39;49m\u001b[39m\"\u001b[39;49m\u001b[39mdot\u001b[39;49m\u001b[39m\"\u001b[39;49m)\n\u001b[0;32m     41\u001b[0m \u001b[39m# set the position according to column (x-coord)\u001b[39;00m\n\u001b[0;32m     42\u001b[0m \u001b[39m#pos = {n: (0, i) for i, n in enumerate(left_nodes)}\u001b[39;00m\n\u001b[0;32m     45\u001b[0m plt\u001b[39m.\u001b[39mfigure(figsize\u001b[39m=\u001b[39m(\u001b[39m60\u001b[39m, \u001b[39m100\u001b[39m))\n",
      "File \u001b[1;32mc:\\Users\\lehtorik\\Documents\\projects\\thesis\\ATAG\\venv\\lib\\site-packages\\networkx\\drawing\\nx_agraph.py:251\u001b[0m, in \u001b[0;36mgraphviz_layout\u001b[1;34m(G, prog, root, args)\u001b[0m\n\u001b[0;32m    220\u001b[0m \u001b[39mdef\u001b[39;00m \u001b[39mgraphviz_layout\u001b[39m(G, prog\u001b[39m=\u001b[39m\u001b[39m\"\u001b[39m\u001b[39mneato\u001b[39m\u001b[39m\"\u001b[39m, root\u001b[39m=\u001b[39m\u001b[39mNone\u001b[39;00m, args\u001b[39m=\u001b[39m\u001b[39m\"\u001b[39m\u001b[39m\"\u001b[39m):\n\u001b[0;32m    221\u001b[0m \u001b[39m    \u001b[39m\u001b[39m\"\"\"Create node positions for G using Graphviz.\u001b[39;00m\n\u001b[0;32m    222\u001b[0m \n\u001b[0;32m    223\u001b[0m \u001b[39m    Parameters\u001b[39;00m\n\u001b[1;32m   (...)\u001b[0m\n\u001b[0;32m    249\u001b[0m \u001b[39m    see https://gitlab.com/graphviz/graphviz/-/issues/1767 for more info.\u001b[39;00m\n\u001b[0;32m    250\u001b[0m \u001b[39m    \"\"\"\u001b[39;00m\n\u001b[1;32m--> 251\u001b[0m     \u001b[39mreturn\u001b[39;00m pygraphviz_layout(G, prog\u001b[39m=\u001b[39;49mprog, root\u001b[39m=\u001b[39;49mroot, args\u001b[39m=\u001b[39;49margs)\n",
      "File \u001b[1;32mc:\\Users\\lehtorik\\Documents\\projects\\thesis\\ATAG\\venv\\lib\\site-packages\\networkx\\drawing\\nx_agraph.py:297\u001b[0m, in \u001b[0;36mpygraphviz_layout\u001b[1;34m(G, prog, root, args)\u001b[0m\n\u001b[0;32m    295\u001b[0m     \u001b[39mimport\u001b[39;00m \u001b[39mpygraphviz\u001b[39;00m\n\u001b[0;32m    296\u001b[0m \u001b[39mexcept\u001b[39;00m \u001b[39mImportError\u001b[39;00m \u001b[39mas\u001b[39;00m err:\n\u001b[1;32m--> 297\u001b[0m     \u001b[39mraise\u001b[39;00m \u001b[39mImportError\u001b[39;00m(\n\u001b[0;32m    298\u001b[0m         \u001b[39m\"\u001b[39m\u001b[39mrequires pygraphviz \u001b[39m\u001b[39m\"\u001b[39m \u001b[39m\"\u001b[39m\u001b[39mhttp://pygraphviz.github.io/\u001b[39m\u001b[39m\"\u001b[39m\n\u001b[0;32m    299\u001b[0m     ) \u001b[39mfrom\u001b[39;00m \u001b[39merr\u001b[39;00m\n\u001b[0;32m    300\u001b[0m \u001b[39mif\u001b[39;00m root \u001b[39mis\u001b[39;00m \u001b[39mnot\u001b[39;00m \u001b[39mNone\u001b[39;00m:\n\u001b[0;32m    301\u001b[0m     args \u001b[39m+\u001b[39m\u001b[39m=\u001b[39m \u001b[39mf\u001b[39m\u001b[39m\"\u001b[39m\u001b[39m-Groot=\u001b[39m\u001b[39m{\u001b[39;00mroot\u001b[39m}\u001b[39;00m\u001b[39m\"\u001b[39m\n",
      "\u001b[1;31mImportError\u001b[0m: requires pygraphviz http://pygraphviz.github.io/"
     ]
    }
   ],
   "source": [
    "import networkx as nx\n",
    "import matplotlib.pyplot as plt\n",
    "import json\n",
    "\n",
    "options = {\n",
    "    \"font_size\": 10,\n",
    "    \"node_size\": 2000,\n",
    "    \"node_color\": \"black\",\n",
    "    \"font_color\": \"white\",\n",
    "    \"edgecolors\": \"black\",\n",
    "    \"linewidths\": 10,\n",
    "    \"width\": 0.3,\n",
    "}\n",
    "\n",
    "G_edges = []\n",
    "pos = {}\n",
    "parsed_json = None\n",
    "\n",
    "with open('path.json') as f:\n",
    "    parsed_json = json.load(f)\n",
    "    \n",
    "for x, layer in enumerate(parsed_json):\n",
    "    y = 0\n",
    "    for start in layer.keys():\n",
    "        for end in layer.get(start).keys():\n",
    "            start_name = '{}_{}'.format(x, start)\n",
    "            end_name = '{}_{}'.format(x+1, end)\n",
    "            pos.update({end_name: (x+1, y)})\n",
    "            y += 1\n",
    "            if x > 0:\n",
    "                G_edges.append((start_name, end_name))\n",
    "\n",
    "#print(G_edges)\n",
    "\n",
    "G = nx.DiGraph(G_edges)\n",
    "pos = nx.nx_agraph.graphviz_layout(G, prog=\"dot\")\n",
    "\n",
    "\n",
    "\n",
    "\n",
    "# set the position according to column (x-coord)\n",
    "#pos = {n: (0, i) for i, n in enumerate(left_nodes)}\n",
    "\n",
    "\n",
    "plt.figure(figsize=(60, 100))\n",
    "nx.draw_networkx(G, pos, **options)\n",
    "\n",
    "# Set margins for the axes so that nodes aren't clipped\n",
    "ax = plt.gca()\n",
    "ax.margins(0)\n",
    "plt.axis(\"off\")"
   ]
  }
 ],
 "metadata": {
  "kernelspec": {
   "display_name": "Python 3",
   "language": "python",
   "name": "python3"
  },
  "language_info": {
   "codemirror_mode": {
    "name": "ipython",
    "version": 3
   },
   "file_extension": ".py",
   "mimetype": "text/x-python",
   "name": "python",
   "nbconvert_exporter": "python",
   "pygments_lexer": "ipython3",
   "version": "3.10.4"
  },
  "orig_nbformat": 4
 },
 "nbformat": 4,
 "nbformat_minor": 2
}
